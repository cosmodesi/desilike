{
 "cells": [
  {
   "cell_type": "markdown",
   "id": "353d2ab8",
   "metadata": {},
   "source": [
    "# DESI Fisher examples\n",
    "\n",
    "In this notebook we will run some DESI forecasts."
   ]
  },
  {
   "cell_type": "code",
   "execution_count": 1,
   "id": "65d27627",
   "metadata": {},
   "outputs": [],
   "source": [
    "import numpy as np\n",
    "\n",
    "zedges = np.linspace(1.1, 1.6, 6)\n",
    "zranges = np.array(list(zip(zedges[:-1], zedges[1:])))\n",
    "nbars = np.array([1079.9998, 1036.0009, 970.9995, 876.9994, 553.9985]) # nobj / deg^2 / dz\n",
    "b0 = 0.84  # at z = 0"
   ]
  },
  {
   "cell_type": "code",
   "execution_count": 2,
   "id": "e5395b99",
   "metadata": {},
   "outputs": [],
   "source": [
    "from cosmoprimo.fiducial import DESI\n",
    "from desilike.theories.galaxy_clustering import (BAOPowerSpectrumTemplate, SimpleBAOWigglesTracerPowerSpectrumMultipoles, DampedBAOWigglesTracerPowerSpectrumMultipoles,\n",
    "                                                 StandardPowerSpectrumTemplate, SimpleTracerPowerSpectrumMultipoles)\n",
    "from desilike.observables.galaxy_clustering import TracerPowerSpectrumMultipolesObservable, CutskyFootprint, ObservablesCovarianceMatrix\n",
    "from desilike.likelihoods.galaxy_clustering import ObservablesGaussianLikelihood, SNWeightedPowerSpectrumLikelihood\n",
    "from desilike import Fisher, setup_logging\n",
    "\n",
    "#setup_logging()"
   ]
  },
  {
   "cell_type": "markdown",
   "id": "e2062001",
   "metadata": {},
   "source": [
    "## Let's compare simple isotropic BAO forecasts against some reference"
   ]
  },
  {
   "cell_type": "markdown",
   "id": "41231f05",
   "metadata": {},
   "source": [
    "### SN-weighted version"
   ]
  },
  {
   "cell_type": "code",
   "execution_count": 3,
   "id": "91c742ce",
   "metadata": {},
   "outputs": [
    {
     "name": "stderr",
     "output_type": "stream",
     "text": [
      "/local/home/adematti/Bureau/DESI/NERSC/cosmodesi/cosmoprimo/cosmoprimo/eisenstein_hu.py:23: UserWarning: EisensteinHuNoWiggleEngine cannot cope with massive neutrinos\n",
      "  warnings.warn('{} cannot cope with massive neutrinos'.format(self.__class__.__name__))\n",
      "/local/home/adematti/Bureau/DESI/NERSC/cosmodesi/cosmoprimo/cosmoprimo/eisenstein_hu.py:23: UserWarning: EisensteinHuNoWiggleEngine cannot cope with massive neutrinos\n",
      "  warnings.warn('{} cannot cope with massive neutrinos'.format(self.__class__.__name__))\n",
      "/local/home/adematti/Bureau/DESI/NERSC/cosmodesi/cosmoprimo/cosmoprimo/eisenstein_hu.py:23: UserWarning: EisensteinHuNoWiggleEngine cannot cope with massive neutrinos\n",
      "  warnings.warn('{} cannot cope with massive neutrinos'.format(self.__class__.__name__))\n",
      "/local/home/adematti/Bureau/DESI/NERSC/cosmodesi/cosmoprimo/cosmoprimo/eisenstein_hu.py:23: UserWarning: EisensteinHuNoWiggleEngine cannot cope with massive neutrinos\n",
      "  warnings.warn('{} cannot cope with massive neutrinos'.format(self.__class__.__name__))\n",
      "/local/home/adematti/Bureau/DESI/NERSC/cosmodesi/cosmoprimo/cosmoprimo/eisenstein_hu.py:23: UserWarning: EisensteinHuNoWiggleEngine cannot cope with massive neutrinos\n",
      "  warnings.warn('{} cannot cope with massive neutrinos'.format(self.__class__.__name__))\n"
     ]
    }
   ],
   "source": [
    "cosmo = DESI()\n",
    "fo = cosmo.get_fourier()\n",
    "\n",
    "fishers = []\n",
    "for zrange, nbar in list(zip(zranges, nbars)):\n",
    "    z = np.mean(zrange)\n",
    "    r = 0.5\n",
    "    sigmaper = r * 12.4 * 0.758 * fo.sigma8_z(z, of='delta_cb') / 0.9\n",
    "    f = fo.sigma8_z(z, of='theta_cb') / fo.sigma8_z(z, of='delta_cb')\n",
    "    b1 = b0 * fo.sigma8_cb/fo.sigma8_z(z, of='delta_cb')  # prescription for linear bias\n",
    "    params = {'b1': b1, 'sigmapar': (1. + f) * sigmaper, 'sigmaper': sigmaper}\n",
    "    # Footprint, to get volume and shot noise; provided nbar is in deg^(-2) dz^(-1)\n",
    "    footprint = CutskyFootprint(area=14000., zrange=zrange, nbar=nbar * np.diff(zrange), cosmo=cosmo)\n",
    "    template = BAOPowerSpectrumTemplate(z=z, fiducial='DESI', apmode='qisoqap')\n",
    "    #theory = DampedBAOWigglesTracerPowerSpectrumMultipoles(template=template)\n",
    "    theory = SimpleBAOWigglesTracerPowerSpectrumMultipoles(template=template)\n",
    "    likelihood = SNWeightedPowerSpectrumLikelihood(theories=theory, data=params, footprints=footprint, klim=(0.01, 0.5))\n",
    "\n",
    "    likelihood.all_params['sigmas'].update(fixed=True)\n",
    "    fisher = Fisher(likelihood)\n",
    "    fishers.append(fisher(**params))\n",
    "\n",
    "# Let's compare against reference: within a few percent, not too bad!\n",
    "# refs = [0.7019, 0.7107, 0.7296, 0.7658, 1.0062]\n",
    "# print(100. * np.array([fisher.std(params='qiso') for fisher in fishers]) / np.array(refs)[:len(fishers)])"
   ]
  },
  {
   "cell_type": "markdown",
   "id": "0da1e355",
   "metadata": {},
   "source": [
    "### Comparison against multipole compression"
   ]
  },
  {
   "cell_type": "code",
   "execution_count": 4,
   "id": "99c6a19e",
   "metadata": {},
   "outputs": [
    {
     "name": "stderr",
     "output_type": "stream",
     "text": [
      "/local/home/adematti/Bureau/DESI/NERSC/cosmodesi/cosmoprimo/cosmoprimo/eisenstein_hu.py:23: UserWarning: EisensteinHuNoWiggleEngine cannot cope with massive neutrinos\n",
      "  warnings.warn('{} cannot cope with massive neutrinos'.format(self.__class__.__name__))\n",
      "/local/home/adematti/Bureau/DESI/NERSC/cosmodesi/cosmoprimo/cosmoprimo/eisenstein_hu.py:23: UserWarning: EisensteinHuNoWiggleEngine cannot cope with massive neutrinos\n",
      "  warnings.warn('{} cannot cope with massive neutrinos'.format(self.__class__.__name__))\n",
      "/local/home/adematti/anaconda3/envs/cosmodesi-main/lib/python3.10/site-packages/numpy/lib/polynomial.py:1338: FutureWarning: In the future extra properties will not be copied across when constructing one poly1d from another\n",
      "  other = poly1d(other)\n",
      "/local/home/adematti/Bureau/DESI/NERSC/cosmodesi/cosmoprimo/cosmoprimo/eisenstein_hu.py:23: UserWarning: EisensteinHuNoWiggleEngine cannot cope with massive neutrinos\n",
      "  warnings.warn('{} cannot cope with massive neutrinos'.format(self.__class__.__name__))\n",
      "/local/home/adematti/anaconda3/envs/cosmodesi-main/lib/python3.10/site-packages/numpy/lib/polynomial.py:1338: FutureWarning: In the future extra properties will not be copied across when constructing one poly1d from another\n",
      "  other = poly1d(other)\n",
      "/local/home/adematti/Bureau/DESI/NERSC/cosmodesi/cosmoprimo/cosmoprimo/eisenstein_hu.py:23: UserWarning: EisensteinHuNoWiggleEngine cannot cope with massive neutrinos\n",
      "  warnings.warn('{} cannot cope with massive neutrinos'.format(self.__class__.__name__))\n",
      "/local/home/adematti/anaconda3/envs/cosmodesi-main/lib/python3.10/site-packages/numpy/lib/polynomial.py:1338: FutureWarning: In the future extra properties will not be copied across when constructing one poly1d from another\n",
      "  other = poly1d(other)\n",
      "/local/home/adematti/Bureau/DESI/NERSC/cosmodesi/cosmoprimo/cosmoprimo/eisenstein_hu.py:23: UserWarning: EisensteinHuNoWiggleEngine cannot cope with massive neutrinos\n",
      "  warnings.warn('{} cannot cope with massive neutrinos'.format(self.__class__.__name__))\n",
      "/local/home/adematti/anaconda3/envs/cosmodesi-main/lib/python3.10/site-packages/numpy/lib/polynomial.py:1338: FutureWarning: In the future extra properties will not be copied across when constructing one poly1d from another\n",
      "  other = poly1d(other)\n",
      "/local/home/adematti/Bureau/DESI/NERSC/cosmodesi/cosmoprimo/cosmoprimo/eisenstein_hu.py:23: UserWarning: EisensteinHuNoWiggleEngine cannot cope with massive neutrinos\n",
      "  warnings.warn('{} cannot cope with massive neutrinos'.format(self.__class__.__name__))\n",
      "/local/home/adematti/anaconda3/envs/cosmodesi-main/lib/python3.10/site-packages/numpy/lib/polynomial.py:1338: FutureWarning: In the future extra properties will not be copied across when constructing one poly1d from another\n",
      "  other = poly1d(other)\n"
     ]
    }
   ],
   "source": [
    "fishers2 = []\n",
    "for zrange, nbar in list(zip(zranges, nbars)):\n",
    "    z = np.mean(zrange)\n",
    "    r = 0.5\n",
    "    sigmaper = r * 12.4 * 0.758 * fo.sigma8_z(z, of='delta_cb') / 0.9\n",
    "    f = fo.sigma8_z(z, of='theta_cb') / fo.sigma8_z(z, of='delta_cb')\n",
    "    params = {'b1': b0 * fo.sigma8_cb/fo.sigma8_z(z, of='delta_cb'), 'sigmapar': (1. + f) * sigmaper, 'sigmaper': sigmaper}\n",
    "    \n",
    "    footprint = CutskyFootprint(area=14000., zrange=zrange, nbar=nbar * np.diff(zrange), cosmo=cosmo)\n",
    "    template = BAOPowerSpectrumTemplate(z=z, fiducial='DESI', apmode='qisoqap')\n",
    "    #theory = DampedBAOWigglesTracerPowerSpectrumMultipoles(template=template)\n",
    "    theory = SimpleBAOWigglesTracerPowerSpectrumMultipoles(template=template)\n",
    "    observable = TracerPowerSpectrumMultipolesObservable(data=params,  # data can be a dictionary of parameters\n",
    "                                                         # fit monopole, quadrupole and hexadecapole between 0.01 and 0.5 h/Mpc, with 0.005 h/Mpc steps\n",
    "                                                         klim={0: [0.01, 0.5, 0.005], 2: [0.01, 0.5, 0.005], 4: [0.01, 0.5, 0.005]},\n",
    "                                                         theory=theory)\n",
    "    covariance = ObservablesCovarianceMatrix(observable, footprints=footprint, resolution=5)  # Gaussian covariance matrix\n",
    "    likelihood = ObservablesGaussianLikelihood(observables=observable, covariance=covariance(**params))\n",
    "    likelihood.all_params['sigmas'].update(fixed=True)\n",
    "    fisher = Fisher(likelihood)\n",
    "    fishers2.append(fisher(**params))"
   ]
  },
  {
   "cell_type": "code",
   "execution_count": 5,
   "id": "23aafac8-cf29-4f4f-ab8c-1877ce02766f",
   "metadata": {},
   "outputs": [
    {
     "name": "stdout",
     "output_type": "stream",
     "text": [
      "[1.00074701 1.00071817 1.00066908 1.00059344 1.00027997]\n"
     ]
    }
   ],
   "source": [
    "# multipole compression is very close to optimal...\n",
    "print(np.array([fisher.std(params='qiso') for fisher in fishers2]) / np.array([fisher.std(params='qiso') for fisher in fishers]))"
   ]
  },
  {
   "cell_type": "markdown",
   "id": "238854db",
   "metadata": {},
   "source": [
    "### Comparison against correlation function multipoles"
   ]
  },
  {
   "cell_type": "code",
   "execution_count": 6,
   "id": "11e813bf",
   "metadata": {},
   "outputs": [
    {
     "name": "stderr",
     "output_type": "stream",
     "text": [
      "/local/home/adematti/Bureau/DESI/NERSC/cosmodesi/cosmoprimo/cosmoprimo/eisenstein_hu.py:23: UserWarning: EisensteinHuNoWiggleEngine cannot cope with massive neutrinos\n",
      "  warnings.warn('{} cannot cope with massive neutrinos'.format(self.__class__.__name__))\n",
      "/local/home/adematti/Bureau/DESI/NERSC/cosmodesi/cosmoprimo/cosmoprimo/eisenstein_hu.py:23: UserWarning: EisensteinHuNoWiggleEngine cannot cope with massive neutrinos\n",
      "  warnings.warn('{} cannot cope with massive neutrinos'.format(self.__class__.__name__))\n",
      "/local/home/adematti/anaconda3/envs/cosmodesi-main/lib/python3.10/site-packages/numpy/lib/polynomial.py:1338: FutureWarning: In the future extra properties will not be copied across when constructing one poly1d from another\n",
      "  other = poly1d(other)\n",
      "/local/home/adematti/anaconda3/envs/cosmodesi-main/lib/python3.10/site-packages/numpy/lib/polynomial.py:1338: FutureWarning: In the future extra properties will not be copied across when constructing one poly1d from another\n",
      "  other = poly1d(other)\n",
      "/local/home/adematti/Bureau/DESI/NERSC/cosmodesi/cosmoprimo/cosmoprimo/eisenstein_hu.py:23: UserWarning: EisensteinHuNoWiggleEngine cannot cope with massive neutrinos\n",
      "  warnings.warn('{} cannot cope with massive neutrinos'.format(self.__class__.__name__))\n",
      "/local/home/adematti/Bureau/DESI/NERSC/cosmodesi/cosmoprimo/cosmoprimo/eisenstein_hu.py:23: UserWarning: EisensteinHuNoWiggleEngine cannot cope with massive neutrinos\n",
      "  warnings.warn('{} cannot cope with massive neutrinos'.format(self.__class__.__name__))\n",
      "/local/home/adematti/Bureau/DESI/NERSC/cosmodesi/cosmoprimo/cosmoprimo/eisenstein_hu.py:23: UserWarning: EisensteinHuNoWiggleEngine cannot cope with massive neutrinos\n",
      "  warnings.warn('{} cannot cope with massive neutrinos'.format(self.__class__.__name__))\n",
      "/local/home/adematti/anaconda3/envs/cosmodesi-main/lib/python3.10/site-packages/numpy/lib/polynomial.py:1338: FutureWarning: In the future extra properties will not be copied across when constructing one poly1d from another\n",
      "  other = poly1d(other)\n",
      "/local/home/adematti/Bureau/DESI/NERSC/cosmodesi/cosmoprimo/cosmoprimo/eisenstein_hu.py:23: UserWarning: EisensteinHuNoWiggleEngine cannot cope with massive neutrinos\n",
      "  warnings.warn('{} cannot cope with massive neutrinos'.format(self.__class__.__name__))\n",
      "/local/home/adematti/Bureau/DESI/NERSC/cosmodesi/cosmoprimo/cosmoprimo/eisenstein_hu.py:23: UserWarning: EisensteinHuNoWiggleEngine cannot cope with massive neutrinos\n",
      "  warnings.warn('{} cannot cope with massive neutrinos'.format(self.__class__.__name__))\n",
      "/local/home/adematti/anaconda3/envs/cosmodesi-main/lib/python3.10/site-packages/numpy/lib/polynomial.py:1338: FutureWarning: In the future extra properties will not be copied across when constructing one poly1d from another\n",
      "  other = poly1d(other)\n",
      "/local/home/adematti/Bureau/DESI/NERSC/cosmodesi/cosmoprimo/cosmoprimo/eisenstein_hu.py:23: UserWarning: EisensteinHuNoWiggleEngine cannot cope with massive neutrinos\n",
      "  warnings.warn('{} cannot cope with massive neutrinos'.format(self.__class__.__name__))\n",
      "/local/home/adematti/Bureau/DESI/NERSC/cosmodesi/cosmoprimo/cosmoprimo/eisenstein_hu.py:23: UserWarning: EisensteinHuNoWiggleEngine cannot cope with massive neutrinos\n",
      "  warnings.warn('{} cannot cope with massive neutrinos'.format(self.__class__.__name__))\n",
      "/local/home/adematti/anaconda3/envs/cosmodesi-main/lib/python3.10/site-packages/numpy/lib/polynomial.py:1338: FutureWarning: In the future extra properties will not be copied across when constructing one poly1d from another\n",
      "  other = poly1d(other)\n",
      "/local/home/adematti/Bureau/DESI/NERSC/cosmodesi/cosmoprimo/cosmoprimo/eisenstein_hu.py:23: UserWarning: EisensteinHuNoWiggleEngine cannot cope with massive neutrinos\n",
      "  warnings.warn('{} cannot cope with massive neutrinos'.format(self.__class__.__name__))\n",
      "/local/home/adematti/Bureau/DESI/NERSC/cosmodesi/cosmoprimo/cosmoprimo/eisenstein_hu.py:23: UserWarning: EisensteinHuNoWiggleEngine cannot cope with massive neutrinos\n",
      "  warnings.warn('{} cannot cope with massive neutrinos'.format(self.__class__.__name__))\n",
      "/local/home/adematti/anaconda3/envs/cosmodesi-main/lib/python3.10/site-packages/numpy/lib/polynomial.py:1338: FutureWarning: In the future extra properties will not be copied across when constructing one poly1d from another\n",
      "  other = poly1d(other)\n"
     ]
    },
    {
     "name": "stdout",
     "output_type": "stream",
     "text": [
      "[1.02731793 1.02789217 1.02860843 1.0296337  1.03475998]\n"
     ]
    }
   ],
   "source": [
    "from desilike.theories.galaxy_clustering import SimpleBAOWigglesTracerCorrelationFunctionMultipoles, DampedBAOWigglesTracerCorrelationFunctionMultipoles\n",
    "from desilike.observables.galaxy_clustering import TracerCorrelationFunctionMultipolesObservable\n",
    "\n",
    "fishers3 = []\n",
    "for zrange, nbar in list(zip(zranges, nbars)):\n",
    "    z = np.mean(zrange)\n",
    "    r = 0.5\n",
    "    sigmaper = r * 12.4 * 0.758 * fo.sigma8_z(z, of='delta_cb') / 0.9\n",
    "    f = fo.sigma8_z(z, of='theta_cb') / fo.sigma8_z(z, of='delta_cb')\n",
    "    params = {'b1': b0 * fo.sigma8_cb/fo.sigma8_z(z, of='delta_cb'), 'sigmapar': (1. + f) * sigmaper, 'sigmaper': sigmaper}\n",
    "    \n",
    "    footprint = CutskyFootprint(area=14000., zrange=zrange, nbar=nbar * np.diff(zrange), cosmo=cosmo)\n",
    "    template = BAOPowerSpectrumTemplate(z=z, fiducial='DESI', apmode='qisoqap')\n",
    "    #theory = DampedBAOWigglesTracerCorrelationFunctionMultipoles(template=template)\n",
    "    theory = SimpleBAOWigglesTracerCorrelationFunctionMultipoles(template=template)\n",
    "    observable = TracerCorrelationFunctionMultipolesObservable(data=params,  # data can be a dictionary of parameters\n",
    "                                                               # fit monopole, quadrupole and hexadecapole\n",
    "                                                               slim={0: [30., 170., 2], 2: [30., 170., 2], 4: [30., 170., 2]},\n",
    "                                                               theory=theory)\n",
    "    covariance = ObservablesCovarianceMatrix(observable, footprints=footprint, resolution=5)  # Gaussian covariance matrix\n",
    "    likelihood = ObservablesGaussianLikelihood(observables=observable, covariance=covariance(**params))\n",
    "    likelihood.all_params['sigmas'].update(fixed=True)\n",
    "    fisher = Fisher(likelihood)\n",
    "    fishers3.append(fisher(**params))\n",
    "\n",
    "print(np.array([fisher.std(params='qiso') for fisher in fishers3]) / np.array([fisher.std(params='qiso') for fisher in fishers2]))"
   ]
  },
  {
   "cell_type": "markdown",
   "id": "bd16c909",
   "metadata": {},
   "source": [
    "## BAO + full shape forecasts"
   ]
  },
  {
   "cell_type": "code",
   "execution_count": 7,
   "id": "9165ef6d",
   "metadata": {},
   "outputs": [
    {
     "name": "stderr",
     "output_type": "stream",
     "text": [
      "/local/home/adematti/Bureau/DESI/NERSC/cosmodesi/cosmoprimo/cosmoprimo/eisenstein_hu.py:23: UserWarning: EisensteinHuNoWiggleEngine cannot cope with massive neutrinos\n",
      "  warnings.warn('{} cannot cope with massive neutrinos'.format(self.__class__.__name__))\n",
      "/local/home/adematti/Bureau/DESI/NERSC/cosmodesi/cosmoprimo/cosmoprimo/eisenstein_hu.py:23: UserWarning: EisensteinHuNoWiggleEngine cannot cope with massive neutrinos\n",
      "  warnings.warn('{} cannot cope with massive neutrinos'.format(self.__class__.__name__))\n",
      "/local/home/adematti/Bureau/DESI/NERSC/cosmodesi/cosmoprimo/cosmoprimo/eisenstein_hu.py:23: UserWarning: EisensteinHuNoWiggleEngine cannot cope with massive neutrinos\n",
      "  warnings.warn('{} cannot cope with massive neutrinos'.format(self.__class__.__name__))\n",
      "/local/home/adematti/Bureau/DESI/NERSC/cosmodesi/cosmoprimo/cosmoprimo/eisenstein_hu.py:23: UserWarning: EisensteinHuNoWiggleEngine cannot cope with massive neutrinos\n",
      "  warnings.warn('{} cannot cope with massive neutrinos'.format(self.__class__.__name__))\n",
      "/local/home/adematti/Bureau/DESI/NERSC/cosmodesi/cosmoprimo/cosmoprimo/eisenstein_hu.py:23: UserWarning: EisensteinHuNoWiggleEngine cannot cope with massive neutrinos\n",
      "  warnings.warn('{} cannot cope with massive neutrinos'.format(self.__class__.__name__))\n",
      "/local/home/adematti/Bureau/DESI/NERSC/cosmodesi/cosmoprimo/cosmoprimo/eisenstein_hu.py:23: UserWarning: EisensteinHuNoWiggleEngine cannot cope with massive neutrinos\n",
      "  warnings.warn('{} cannot cope with massive neutrinos'.format(self.__class__.__name__))\n",
      "/local/home/adematti/Bureau/DESI/NERSC/cosmodesi/cosmoprimo/cosmoprimo/eisenstein_hu.py:23: UserWarning: EisensteinHuNoWiggleEngine cannot cope with massive neutrinos\n",
      "  warnings.warn('{} cannot cope with massive neutrinos'.format(self.__class__.__name__))\n",
      "/local/home/adematti/Bureau/DESI/NERSC/cosmodesi/cosmoprimo/cosmoprimo/eisenstein_hu.py:23: UserWarning: EisensteinHuNoWiggleEngine cannot cope with massive neutrinos\n",
      "  warnings.warn('{} cannot cope with massive neutrinos'.format(self.__class__.__name__))\n",
      "/local/home/adematti/Bureau/DESI/NERSC/cosmodesi/cosmoprimo/cosmoprimo/eisenstein_hu.py:23: UserWarning: EisensteinHuNoWiggleEngine cannot cope with massive neutrinos\n",
      "  warnings.warn('{} cannot cope with massive neutrinos'.format(self.__class__.__name__))\n",
      "/local/home/adematti/Bureau/DESI/NERSC/cosmodesi/cosmoprimo/cosmoprimo/eisenstein_hu.py:23: UserWarning: EisensteinHuNoWiggleEngine cannot cope with massive neutrinos\n",
      "  warnings.warn('{} cannot cope with massive neutrinos'.format(self.__class__.__name__))\n"
     ]
    }
   ],
   "source": [
    "cosmo = DESI()\n",
    "fo = cosmo.get_fourier()\n",
    "\n",
    "fishers_bao, fishers_bao_highk, fishers_fs_lowk, fishers_bao_fs = [], [], [], []\n",
    "for zrange, nbar in list(zip(zranges, nbars)):\n",
    "    z = np.mean(zrange)\n",
    "    r = 0.5\n",
    "    sigmaper = r * 12.4 * 0.758 * fo.sigma8_z(z, of='delta_cb') / 0.9\n",
    "    f = fo.sigma8_z(z, of='theta_cb') / fo.sigma8_z(z, of='delta_cb')\n",
    "    b1 = b0 * fo.sigma8_cb / fo.sigma8_z(z, of='delta_cb')\n",
    "    params = {'b1': b1, 'sigmapar': (1. + f) * sigmaper, 'sigmaper': sigmaper}\n",
    "    footprint = CutskyFootprint(area=14000., zrange=zrange, nbar=nbar * np.diff(zrange), cosmo=cosmo)\n",
    "    template = BAOPowerSpectrumTemplate(z=z, fiducial='DESI', apmode='qparqper')\n",
    "    #theory = DampedBAOWigglesTracerPowerSpectrumMultipoles(template=template)\n",
    "    theory = SimpleBAOWigglesTracerPowerSpectrumMultipoles(template=template)\n",
    "    #for param in theory.params.select(basename='al*'): param.update(fixed=True)\n",
    "    likelihood = SNWeightedPowerSpectrumLikelihood(theories=theory, data=params, footprints=footprint, klim=(0.01, 0.5))\n",
    "    likelihood.all_params['sigmas'].update(fixed=True)\n",
    "    fisher = Fisher(likelihood)\n",
    "    fisher_bao = fisher(**params)\n",
    "    fishers_bao.append(fisher_bao)\n",
    "    \n",
    "    likelihood.init.update(klim=(0.1, 0.5))\n",
    "    fisher = Fisher(likelihood)\n",
    "    fishers_bao_highk.append(fisher(**params))\n",
    "    \n",
    "    #likelihood.init.update(klim=(0.01, 0.1))\n",
    "    template = StandardPowerSpectrumTemplate(z=z, fiducial='DESI', apmode='qparqper')\n",
    "    theory = SimpleTracerPowerSpectrumMultipoles(template=template)\n",
    "    theory.params['sn0'].update(value=0., fixed=True)\n",
    "    likelihood = SNWeightedPowerSpectrumLikelihood(theories=theory, data=params, footprints=footprint, klim=(0.01, 0.1))\n",
    "    fisher = Fisher(likelihood)\n",
    "    fisher_fs = fisher(**params)\n",
    "    fishers_fs_lowk.append(fisher_fs)\n",
    "    fishers_bao_fs.append(fisher_bao.view(params=['qpar', 'qper']) + fisher_fs)"
   ]
  },
  {
   "cell_type": "code",
   "execution_count": 8,
   "id": "269a180e",
   "metadata": {},
   "outputs": [
    {
     "name": "stdout",
     "output_type": "stream",
     "text": [
      "1.2760762173203608 1.234805471524522\n",
      "1.2759010464104437 1.239717718261059\n",
      "1.278182157349952 1.246645435607431\n",
      "1.2848922234328306 1.257660969940955\n",
      "1.3391276549374476 1.3171154281575397\n"
     ]
    }
   ],
   "source": [
    "# 20% - 30% improvement using the full shape < 0.1 h/Mpc\n",
    "for fisher_bao, fisher_bao_fs in zip(fishers_bao, fishers_bao_fs):\n",
    "    print(fisher_bao.std('qpar') / fisher_bao_fs.std('qpar'), fisher_bao.std('qper') / fisher_bao_fs.std('qper'))"
   ]
  }
 ],
 "metadata": {
  "kernelspec": {
   "display_name": "cosmodesi-main",
   "language": "python",
   "name": "cosmodesi-main"
  },
  "language_info": {
   "codemirror_mode": {
    "name": "ipython",
    "version": 3
   },
   "file_extension": ".py",
   "mimetype": "text/x-python",
   "name": "python",
   "nbconvert_exporter": "python",
   "pygments_lexer": "ipython3",
   "version": "3.10.13"
  }
 },
 "nbformat": 4,
 "nbformat_minor": 5
}
